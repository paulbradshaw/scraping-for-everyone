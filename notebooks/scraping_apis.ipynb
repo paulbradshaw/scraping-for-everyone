{
 "cells": [
  {
   "cell_type": "markdown",
   "metadata": {},
   "source": [
    "# Using APIs\n",
    "\n",
    "This notebook explains how to use Python to extract data from an API. \n",
    "\n",
    "First, we need two libraries: \n",
    "\n",
    "* The `urllib` library to deal with URLs\n",
    "* and `json` to deal with JSON"
   ]
  },
  {
   "cell_type": "code",
   "execution_count": 1,
   "metadata": {
    "collapsed": true
   },
   "outputs": [],
   "source": [
    "import urllib, json"
   ]
  },
  {
   "cell_type": "markdown",
   "metadata": {},
   "source": [
    "Typically you 'query' an API by forming a URL. The URL to query the data.police.uk API for the names of all police forces, for example, is `https://data.police.uk/api/forces`.\n",
    "\n",
    "Next, then, let's create a variable to store the URL we're going to grab. "
   ]
  },
  {
   "cell_type": "code",
   "execution_count": 2,
   "metadata": {
    "collapsed": true
   },
   "outputs": [],
   "source": [
    "url = \"https://data.police.uk/api/forces\""
   ]
  },
  {
   "cell_type": "markdown",
   "metadata": {},
   "source": [
    "Now to open that URL and store it in a new variable called `response`"
   ]
  },
  {
   "cell_type": "code",
   "execution_count": 3,
   "metadata": {
    "collapsed": true
   },
   "outputs": [],
   "source": [
    "response = urllib.urlopen(url)"
   ]
  },
  {
   "cell_type": "markdown",
   "metadata": {},
   "source": [
    "Now load the JSON from that `response` variable into another new variable we'll call `data`:"
   ]
  },
  {
   "cell_type": "code",
   "execution_count": 4,
   "metadata": {
    "collapsed": true
   },
   "outputs": [],
   "source": [
    "data = json.loads(response.read())"
   ]
  },
  {
   "cell_type": "markdown",
   "metadata": {},
   "source": [
    "And then print it"
   ]
  },
  {
   "cell_type": "code",
   "execution_count": 5,
   "metadata": {
    "collapsed": false
   },
   "outputs": [
    {
     "name": "stdout",
     "output_type": "stream",
     "text": [
      "[{u'id': u'avon-and-somerset', u'name': u'Avon and Somerset Constabulary'}, {u'id': u'bedfordshire', u'name': u'Bedfordshire Police'}, {u'id': u'cambridgeshire', u'name': u'Cambridgeshire Constabulary'}, {u'id': u'cheshire', u'name': u'Cheshire Constabulary'}, {u'id': u'city-of-london', u'name': u'City of London Police'}, {u'id': u'cleveland', u'name': u'Cleveland Police'}, {u'id': u'cumbria', u'name': u'Cumbria Constabulary'}, {u'id': u'derbyshire', u'name': u'Derbyshire Constabulary'}, {u'id': u'devon-and-cornwall', u'name': u'Devon & Cornwall Police'}, {u'id': u'dorset', u'name': u'Dorset Police'}, {u'id': u'durham', u'name': u'Durham Constabulary'}, {u'id': u'dyfed-powys', u'name': u'Dyfed-Powys Police'}, {u'id': u'essex', u'name': u'Essex Police'}, {u'id': u'gloucestershire', u'name': u'Gloucestershire Constabulary'}, {u'id': u'greater-manchester', u'name': u'Greater Manchester Police'}, {u'id': u'gwent', u'name': u'Gwent Police'}, {u'id': u'hampshire', u'name': u'Hampshire Constabulary'}, {u'id': u'hertfordshire', u'name': u'Hertfordshire Constabulary'}, {u'id': u'humberside', u'name': u'Humberside Police'}, {u'id': u'kent', u'name': u'Kent Police'}, {u'id': u'lancashire', u'name': u'Lancashire Constabulary'}, {u'id': u'leicestershire', u'name': u'Leicestershire Police'}, {u'id': u'lincolnshire', u'name': u'Lincolnshire Police'}, {u'id': u'merseyside', u'name': u'Merseyside Police'}, {u'id': u'metropolitan', u'name': u'Metropolitan Police Service'}, {u'id': u'norfolk', u'name': u'Norfolk Constabulary'}, {u'id': u'north-wales', u'name': u'North Wales Police'}, {u'id': u'north-yorkshire', u'name': u'North Yorkshire Police'}, {u'id': u'northamptonshire', u'name': u'Northamptonshire Police'}, {u'id': u'northumbria', u'name': u'Northumbria Police'}, {u'id': u'nottinghamshire', u'name': u'Nottinghamshire Police'}, {u'id': u'northern-ireland', u'name': u'Police Service of Northern Ireland'}, {u'id': u'south-wales', u'name': u'South Wales Police'}, {u'id': u'south-yorkshire', u'name': u'South Yorkshire Police'}, {u'id': u'staffordshire', u'name': u'Staffordshire Police'}, {u'id': u'suffolk', u'name': u'Suffolk Constabulary'}, {u'id': u'surrey', u'name': u'Surrey Police'}, {u'id': u'sussex', u'name': u'Sussex Police'}, {u'id': u'thames-valley', u'name': u'Thames Valley Police'}, {u'id': u'warwickshire', u'name': u'Warwickshire Police'}, {u'id': u'west-mercia', u'name': u'West Mercia Police'}, {u'id': u'west-midlands', u'name': u'West Midlands Police'}, {u'id': u'west-yorkshire', u'name': u'West Yorkshire Police'}, {u'id': u'wiltshire', u'name': u'Wiltshire Police'}]\n"
     ]
    }
   ],
   "source": [
    "print data"
   ]
  },
  {
   "cell_type": "markdown",
   "metadata": {},
   "source": [
    "This just shows us all the JSON. But what if we want to store it? I'm going to add some more lines to go through the JSON, and do that.\n",
    "\n",
    "The JSON data is a **list**. The following two lines **loop** through that list and display each item in turn:"
   ]
  },
  {
   "cell_type": "code",
   "execution_count": 6,
   "metadata": {
    "collapsed": false
   },
   "outputs": [
    {
     "name": "stdout",
     "output_type": "stream",
     "text": [
      "{u'id': u'avon-and-somerset', u'name': u'Avon and Somerset Constabulary'}\n",
      "{u'id': u'bedfordshire', u'name': u'Bedfordshire Police'}\n",
      "{u'id': u'cambridgeshire', u'name': u'Cambridgeshire Constabulary'}\n",
      "{u'id': u'cheshire', u'name': u'Cheshire Constabulary'}\n",
      "{u'id': u'city-of-london', u'name': u'City of London Police'}\n",
      "{u'id': u'cleveland', u'name': u'Cleveland Police'}\n",
      "{u'id': u'cumbria', u'name': u'Cumbria Constabulary'}\n",
      "{u'id': u'derbyshire', u'name': u'Derbyshire Constabulary'}\n",
      "{u'id': u'devon-and-cornwall', u'name': u'Devon & Cornwall Police'}\n",
      "{u'id': u'dorset', u'name': u'Dorset Police'}\n",
      "{u'id': u'durham', u'name': u'Durham Constabulary'}\n",
      "{u'id': u'dyfed-powys', u'name': u'Dyfed-Powys Police'}\n",
      "{u'id': u'essex', u'name': u'Essex Police'}\n",
      "{u'id': u'gloucestershire', u'name': u'Gloucestershire Constabulary'}\n",
      "{u'id': u'greater-manchester', u'name': u'Greater Manchester Police'}\n",
      "{u'id': u'gwent', u'name': u'Gwent Police'}\n",
      "{u'id': u'hampshire', u'name': u'Hampshire Constabulary'}\n",
      "{u'id': u'hertfordshire', u'name': u'Hertfordshire Constabulary'}\n",
      "{u'id': u'humberside', u'name': u'Humberside Police'}\n",
      "{u'id': u'kent', u'name': u'Kent Police'}\n",
      "{u'id': u'lancashire', u'name': u'Lancashire Constabulary'}\n",
      "{u'id': u'leicestershire', u'name': u'Leicestershire Police'}\n",
      "{u'id': u'lincolnshire', u'name': u'Lincolnshire Police'}\n",
      "{u'id': u'merseyside', u'name': u'Merseyside Police'}\n",
      "{u'id': u'metropolitan', u'name': u'Metropolitan Police Service'}\n",
      "{u'id': u'norfolk', u'name': u'Norfolk Constabulary'}\n",
      "{u'id': u'north-wales', u'name': u'North Wales Police'}\n",
      "{u'id': u'north-yorkshire', u'name': u'North Yorkshire Police'}\n",
      "{u'id': u'northamptonshire', u'name': u'Northamptonshire Police'}\n",
      "{u'id': u'northumbria', u'name': u'Northumbria Police'}\n",
      "{u'id': u'nottinghamshire', u'name': u'Nottinghamshire Police'}\n",
      "{u'id': u'northern-ireland', u'name': u'Police Service of Northern Ireland'}\n",
      "{u'id': u'south-wales', u'name': u'South Wales Police'}\n",
      "{u'id': u'south-yorkshire', u'name': u'South Yorkshire Police'}\n",
      "{u'id': u'staffordshire', u'name': u'Staffordshire Police'}\n",
      "{u'id': u'suffolk', u'name': u'Suffolk Constabulary'}\n",
      "{u'id': u'surrey', u'name': u'Surrey Police'}\n",
      "{u'id': u'sussex', u'name': u'Sussex Police'}\n",
      "{u'id': u'thames-valley', u'name': u'Thames Valley Police'}\n",
      "{u'id': u'warwickshire', u'name': u'Warwickshire Police'}\n",
      "{u'id': u'west-mercia', u'name': u'West Mercia Police'}\n",
      "{u'id': u'west-midlands', u'name': u'West Midlands Police'}\n",
      "{u'id': u'west-yorkshire', u'name': u'West Yorkshire Police'}\n",
      "{u'id': u'wiltshire', u'name': u'Wiltshire Police'}\n"
     ]
    }
   ],
   "source": [
    "for i in data:\n",
    "    print i"
   ]
  },
  {
   "cell_type": "markdown",
   "metadata": {},
   "source": [
    "Each line looks like this: `{\"id\":\"warwickshire\",\"name\":\"Warwickshire Police\"}`\n",
    "\n",
    "Notice that `\"id\"` and `\"name\"` always stay the same (these are the **keys**), but the *value* of those changes.\n",
    "\n",
    "We can print more specifically by using square brackets to identify the key in each item like so:"
   ]
  },
  {
   "cell_type": "code",
   "execution_count": 7,
   "metadata": {
    "collapsed": false
   },
   "outputs": [
    {
     "name": "stdout",
     "output_type": "stream",
     "text": [
      "Avon and Somerset Constabulary\n",
      "Bedfordshire Police\n",
      "Cambridgeshire Constabulary\n",
      "Cheshire Constabulary\n",
      "City of London Police\n",
      "Cleveland Police\n",
      "Cumbria Constabulary\n",
      "Derbyshire Constabulary\n",
      "Devon & Cornwall Police\n",
      "Dorset Police\n",
      "Durham Constabulary\n",
      "Dyfed-Powys Police\n",
      "Essex Police\n",
      "Gloucestershire Constabulary\n",
      "Greater Manchester Police\n",
      "Gwent Police\n",
      "Hampshire Constabulary\n",
      "Hertfordshire Constabulary\n",
      "Humberside Police\n",
      "Kent Police\n",
      "Lancashire Constabulary\n",
      "Leicestershire Police\n",
      "Lincolnshire Police\n",
      "Merseyside Police\n",
      "Metropolitan Police Service\n",
      "Norfolk Constabulary\n",
      "North Wales Police\n",
      "North Yorkshire Police\n",
      "Northamptonshire Police\n",
      "Northumbria Police\n",
      "Nottinghamshire Police\n",
      "Police Service of Northern Ireland\n",
      "South Wales Police\n",
      "South Yorkshire Police\n",
      "Staffordshire Police\n",
      "Suffolk Constabulary\n",
      "Surrey Police\n",
      "Sussex Police\n",
      "Thames Valley Police\n",
      "Warwickshire Police\n",
      "West Mercia Police\n",
      "West Midlands Police\n",
      "West Yorkshire Police\n",
      "Wiltshire Police\n"
     ]
    }
   ],
   "source": [
    "for i in data:\n",
    "    print i['name']"
   ]
  },
  {
   "cell_type": "markdown",
   "metadata": {},
   "source": [
    "This is much the same as `.name` if you hovered over it in JSONView.\n",
    "\n",
    "And we can test things by using **operators** like so:"
   ]
  },
  {
   "cell_type": "code",
   "execution_count": 9,
   "metadata": {
    "collapsed": false
   },
   "outputs": [
    {
     "name": "stdout",
     "output_type": "stream",
     "text": [
      "avon-and-somerset\n",
      "bedfordshire\n",
      "cambridgeshire\n",
      "cheshire\n",
      "city-of-london\n",
      "cleveland\n",
      "cumbria\n",
      "derbyshire\n",
      "devon-and-cornwall\n",
      "dorset\n",
      "durham\n",
      "dyfed-powys\n",
      "essex\n",
      "gloucestershire\n",
      "greater-manchester\n",
      "gwent\n",
      "hampshire\n",
      "hertfordshire\n",
      "humberside\n",
      "kent\n",
      "lancashire\n",
      "leicestershire\n",
      "lincolnshire\n",
      "merseyside\n",
      "metropolitan\n",
      "norfolk\n",
      "north-wales\n",
      "north-yorkshire\n",
      "northamptonshire\n",
      "northumbria\n",
      "nottinghamshire\n",
      "northern-ireland\n",
      "south-wales\n",
      "south-yorkshire\n",
      "staffordshire\n",
      "suffolk\n",
      "surrey\n",
      "sussex\n",
      "thames-valley\n",
      "warwickshire\n",
      "west-mercia\n",
      "west-midlands\n",
      "west-yorkshire\n",
      "wiltshire\n",
      "THIS IS WILTSHIRE\n"
     ]
    }
   ],
   "source": [
    "for i in data:\n",
    "    print i['id']\n",
    "    if i['id'] == 'wiltshire':\n",
    "        print 'THIS IS WILTSHIRE'"
   ]
  },
  {
   "cell_type": "markdown",
   "metadata": {},
   "source": [
    "We could also look for text inside a string by using `in` like so:"
   ]
  },
  {
   "cell_type": "code",
   "execution_count": 10,
   "metadata": {
    "collapsed": false
   },
   "outputs": [
    {
     "name": "stdout",
     "output_type": "stream",
     "text": [
      "avon-and-somerset\n",
      "bedfordshire\n",
      "cambridgeshire\n",
      "cheshire\n",
      "city-of-london\n",
      "cleveland\n",
      "cumbria\n",
      "derbyshire\n",
      "devon-and-cornwall\n",
      "dorset\n",
      "durham\n",
      "dyfed-powys\n",
      "essex\n",
      "gloucestershire\n",
      "greater-manchester\n",
      "gwent\n",
      "hampshire\n",
      "hertfordshire\n",
      "humberside\n",
      "kent\n",
      "lancashire\n",
      "leicestershire\n",
      "lincolnshire\n",
      "merseyside\n",
      "metropolitan\n",
      "norfolk\n",
      "north-wales\n",
      "north-yorkshire\n",
      "northamptonshire\n",
      "northumbria\n",
      "nottinghamshire\n",
      "northern-ireland\n",
      "south-wales\n",
      "south-yorkshire\n",
      "staffordshire\n",
      "suffolk\n",
      "surrey\n",
      "sussex\n",
      "thames-valley\n",
      "warwickshire\n",
      "west-mercia\n",
      "west-midlands\n",
      "west-yorkshire\n",
      "wiltshire\n",
      "IT CONTAINS WILT\n"
     ]
    }
   ],
   "source": [
    "for i in data:\n",
    "    print i['id']\n",
    "    if 'wilt' in i['id']:\n",
    "        print 'IT CONTAINS WILT'"
   ]
  },
  {
   "cell_type": "markdown",
   "metadata": {},
   "source": [
    "## Storing the results\n",
    "\n",
    "We haven't yet used the `scraperwiki` library, but to store the results in a database we're going to need `scraperwiki.sqlite` - so that means we'd better import it at the start of the code:"
   ]
  },
  {
   "cell_type": "code",
   "execution_count": 11,
   "metadata": {
    "collapsed": true
   },
   "outputs": [],
   "source": [
    "import scraperwiki"
   ]
  },
  {
   "cell_type": "markdown",
   "metadata": {},
   "source": [
    "We also need to create an empty dictionary variable to store the data in the code - this needs to be created before the loop. We'll call it `record`.\n",
    "\n",
    "Now with those two (the library and the variable) ready to be used, within the `for` loop add the following two lines:"
   ]
  },
  {
   "cell_type": "code",
   "execution_count": 12,
   "metadata": {
    "collapsed": true
   },
   "outputs": [],
   "source": [
    "record = {}\n",
    "for i in data:\n",
    "    record['idcode'] = i['id']\n",
    "    record['fullname'] = i['name']\n",
    "    scraperwiki.sqlite.save(['idcode'], record)"
   ]
  },
  {
   "cell_type": "markdown",
   "metadata": {},
   "source": [
    "The first line stores one part of the JSON (the `id:` value) within the `record` variable, the second line of code stores the other (the `name:` value). The third line saves it in the SQLite database and uses `idcode` as the unique key. \n",
    "\n",
    "That's pretty much it. As a series of steps it looks like this:\n",
    "\n",
    "1. Store a URL\n",
    "2. Read the URL into an object using `urllib`\n",
    "3. Create an empty dictionary \n",
    "4. Read some of the JSON from that object into that empty dictionary\n",
    "5. Save the contents of the dictionary as a row in the `scraperwiki.sqlite` database"
   ]
  }
 ],
 "metadata": {
  "anaconda-cloud": {},
  "kernelspec": {
   "display_name": "Python [Root]",
   "language": "python",
   "name": "Python [Root]"
  },
  "language_info": {
   "codemirror_mode": {
    "name": "ipython",
    "version": 2
   },
   "file_extension": ".py",
   "mimetype": "text/x-python",
   "name": "python",
   "nbconvert_exporter": "python",
   "pygments_lexer": "ipython2",
   "version": "2.7.12"
  }
 },
 "nbformat": 4,
 "nbformat_minor": 0
}
